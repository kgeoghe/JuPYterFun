{
 "cells": [
  {
   "cell_type": "markdown",
   "metadata": {
    "slideshow": {
     "slide_type": "skip"
    }
   },
   "source": [
    "#### NOTE: This Jupyter Notebook is for educational use only"
   ]
  },
  {
   "cell_type": "markdown",
   "metadata": {
    "slideshow": {
     "slide_type": "slide"
    }
   },
   "source": [
    "# JuPYter Fun\n",
    "---\n",
    "### UWPCE Python Course Lightning Talk\n",
    "7 February 2018\n",
    "\n",
    "[//]: # (Nobody's the wiser)\n",
    "<br>\n",
    "Kevin Geoghegan"
   ]
  },
  {
   "cell_type": "markdown",
   "metadata": {
    "slideshow": {
     "slide_type": "notes"
    }
   },
   "source": [
    "\\[brief intro (name)\\]\n",
    "\n",
    "... and I want to show you a project very much relating to Python that has been gaining a lot of attention since 2014\n",
    "\n",
    "I wouldn't be able to cover everything in a week, much less 5 minutes, so, as the title implies, I just going to show you some of the parts that I've found most intersting."
   ]
  },
  {
   "cell_type": "markdown",
   "metadata": {
    "slideshow": {
     "slide_type": "slide"
    }
   },
   "source": [
    "## Project Jupyter\n",
    "\n",
    "<img style=\"float: right;\" src=\"./images/jupyterWebHome.png\" width=\"500\"/>\n",
    "\n",
    "- Made for collaboration\n",
    "- Formerly IPython Project (.ipynb)\n",
    "- Interactive (way more than iPython)\n",
    "    - Inline graphics\n",
    "    - Easy code block evaluation\n",
    "    - Open standards - third party widgets"
   ]
  },
  {
   "cell_type": "markdown",
   "metadata": {
    "slideshow": {
     "slide_type": "notes"
    }
   },
   "source": [
    "Third party developers leverage the open standards (think HTML and CSS) to build custom apps with embedded interactive computing"
   ]
  },
  {
   "cell_type": "markdown",
   "metadata": {
    "slideshow": {
     "slide_type": "slide"
    }
   },
   "source": [
    "## Project Jupyter\n",
    "\n",
    "<img style=\"float: right;\" src=\"./images/jupyterWebUsers.png\" width=\"600\"/>\n",
    "\n",
    "- Support for dozens of languages\n",
    "- Easily sharable ([nbviewer](http://nbviewer.jupyter.org/))\n",
    "- Handles it all\n",
    "    - Equations\n",
    "    - Visualizations\n",
    "    - Narrative text\n",
    "    - Live code"
   ]
  },
  {
   "cell_type": "markdown",
   "metadata": {
    "slideshow": {
     "slide_type": "slide"
    }
   },
   "source": [
    "# iPython meets an open standard Mathematica"
   ]
  },
  {
   "cell_type": "markdown",
   "metadata": {
    "slideshow": {
     "slide_type": "slide"
    }
   },
   "source": [
    "# What can it do?"
   ]
  },
  {
   "cell_type": "markdown",
   "metadata": {
    "slideshow": {
     "slide_type": "slide"
    }
   },
   "source": [
    "# Markdown"
   ]
  },
  {
   "cell_type": "markdown",
   "metadata": {
    "slideshow": {
     "slide_type": "subslide"
    }
   },
   "source": [
    "## Markdown\n",
    "\n",
    "<img style=\"float: right;\" src=\"./images/markdownCheatSheet2.png\" width=\"800\"/>\n",
    "\n",
    "- Headers\n",
    "- Styling\n",
    "- Lists\n",
    "- Links\n",
    "- ..."
   ]
  },
  {
   "cell_type": "markdown",
   "metadata": {
    "slideshow": {
     "slide_type": "subslide"
    }
   },
   "source": [
    "## Images\n",
    "\n",
    "`<img style=\"display:block; margin-left:auto; margin-right:auto;\" src=\"./images/xkcdComic.png\" width=\"600\"/>`\n",
    "\n",
    "## Blockquotes\n",
    "`> The  canonical, \"Python is a great first language\", elicited, \"Python is a great last language!\"`\n",
    "\n",
    "`> - Noah Spurrier`"
   ]
  },
  {
   "cell_type": "markdown",
   "metadata": {
    "slideshow": {
     "slide_type": "subslide"
    }
   },
   "source": [
    "<img style=\"display:block; margin-left:auto; margin-right:auto;\" src=\"./images/xkcdComic.png\" width=\"650\"/>\n",
    "\n",
    "> The  canonical, \"Python is a great first language\", elicited, \"Python is a great last language!\"\n",
    "> - Noah Spurrier"
   ]
  },
  {
   "cell_type": "markdown",
   "metadata": {
    "slideshow": {
     "slide_type": "subslide"
    }
   },
   "source": [
    "## Code blocks\n",
    "`> jupyter notebook`\n",
    "\n",
    "#### (Some useful options)\n",
    "`> jupyter notebook --no-browser --port=8888 --allow-root`"
   ]
  },
  {
   "cell_type": "markdown",
   "metadata": {
    "slideshow": {
     "slide_type": "subslide"
    }
   },
   "source": [
    "## Syntax and Code Highlighting\n",
    "\n",
    "### Python\n",
    "```python\n",
    "s = \"Python syntax highlighting\"\n",
    "print(s)\n",
    "```"
   ]
  },
  {
   "cell_type": "markdown",
   "metadata": {
    "slideshow": {
     "slide_type": "fragment"
    }
   },
   "source": [
    "### Javascript\n",
    "```javascript\n",
    "var s = \"JavaScript syntax highlighting\";\n",
    "alert(s);\n",
    "```"
   ]
  },
  {
   "cell_type": "markdown",
   "metadata": {
    "slideshow": {
     "slide_type": "slide"
    }
   },
   "source": [
    "# Live Code"
   ]
  },
  {
   "cell_type": "markdown",
   "metadata": {
    "slideshow": {
     "slide_type": "subslide"
    }
   },
   "source": [
    "## Python"
   ]
  },
  {
   "cell_type": "markdown",
   "metadata": {
    "slideshow": {
     "slide_type": "notes"
    }
   },
   "source": [
    "Don't pre-evaluate the following 3 code cells"
   ]
  },
  {
   "cell_type": "code",
   "execution_count": null,
   "metadata": {
    "slideshow": {
     "slide_type": "-"
    }
   },
   "outputs": [],
   "source": [
    "s = \"Python syntax highlighting\"\n",
    "print s"
   ]
  },
  {
   "cell_type": "markdown",
   "metadata": {
    "slideshow": {
     "slide_type": "slide"
    }
   },
   "source": [
    "# Magic"
   ]
  },
  {
   "cell_type": "code",
   "execution_count": null,
   "metadata": {
    "slideshow": {
     "slide_type": "subslide"
    }
   },
   "outputs": [],
   "source": [
    "%lsmagic"
   ]
  },
  {
   "cell_type": "markdown",
   "metadata": {
    "slideshow": {
     "slide_type": "subslide"
    }
   },
   "source": [
    "## Python"
   ]
  },
  {
   "cell_type": "code",
   "execution_count": null,
   "metadata": {
    "slideshow": {
     "slide_type": "-"
    }
   },
   "outputs": [],
   "source": [
    "s = \"Python syntax highlighting\"\n",
    "print s"
   ]
  },
  {
   "cell_type": "markdown",
   "metadata": {
    "slideshow": {
     "slide_type": "subslide"
    }
   },
   "source": [
    "## LaTeX"
   ]
  },
  {
   "cell_type": "code",
   "execution_count": 21,
   "metadata": {
    "scrolled": false,
    "slideshow": {
     "slide_type": "-"
    }
   },
   "outputs": [
    {
     "data": {
      "text/latex": [
       "\\begin{align}\n",
       "\\frac{\\partial u}{\\partial t} = D_u \\frac{\\partial^2 u}{\\partial x^2} + f(u,v),\\\\\n",
       "\\frac{\\partial v}{\\partial t} = D_v \\frac{\\partial^2 v}{\\partial x^2} - f(u,v),\n",
       "\\end{align}"
      ],
      "text/plain": [
       "<IPython.core.display.Latex object>"
      ]
     },
     "metadata": {},
     "output_type": "display_data"
    }
   ],
   "source": [
    "%%latex\n",
    "\\begin{align}\n",
    "\\frac{\\partial u}{\\partial t} = D_u \\frac{\\partial^2 u}{\\partial x^2} + f(u,v),\\\\\n",
    "\\frac{\\partial v}{\\partial t} = D_v \\frac{\\partial^2 v}{\\partial x^2} - f(u,v),\n",
    "\\end{align}"
   ]
  },
  {
   "cell_type": "code",
   "execution_count": 24,
   "metadata": {
    "scrolled": true,
    "slideshow": {
     "slide_type": "subslide"
    }
   },
   "outputs": [
    {
     "data": {
      "text/latex": [
       "\\begin{bmatrix}\n",
       "1+\\sigma & -\\sigma & 0 & 0 & 0 & \\cdots & 0 & 0 & 0 & 0\\\\\n",
       "-\\sigma & 1+2\\sigma & -\\sigma & 0 & 0 & \\cdots & 0 & 0 & 0 & 0 \\\\\n",
       "0 & -\\sigma & 1+2\\sigma & -\\sigma & \\cdots & 0 & 0 & 0 & 0 & 0 \\\\\n",
       "0 & 0 & \\ddots & \\ddots & \\ddots & \\ddots & 0 & 0 & 0 & 0 \\\\\n",
       "0 & 0 & 0 & 0 & 0 & 0 & 0 & -\\sigma & 1+2\\sigma & -\\sigma \\\\\n",
       "0 & 0 & 0 & 0 & 0 & 0 & 0 & 0 & -\\sigma & 1+\\sigma\n",
       "\\end{bmatrix}"
      ],
      "text/plain": [
       "<IPython.core.display.Latex object>"
      ]
     },
     "metadata": {},
     "output_type": "display_data"
    }
   ],
   "source": [
    "%%latex\n",
    "\\begin{bmatrix}\n",
    "1+\\sigma & -\\sigma & 0 & 0 & 0 & \\cdots & 0 & 0 & 0 & 0\\\\\n",
    "-\\sigma & 1+2\\sigma & -\\sigma & 0 & 0 & \\cdots & 0 & 0 & 0 & 0 \\\\\n",
    "0 & -\\sigma & 1+2\\sigma & -\\sigma & \\cdots & 0 & 0 & 0 & 0 & 0 \\\\\n",
    "0 & 0 & \\ddots & \\ddots & \\ddots & \\ddots & 0 & 0 & 0 & 0 \\\\\n",
    "0 & 0 & 0 & 0 & 0 & 0 & 0 & -\\sigma & 1+2\\sigma & -\\sigma \\\\\n",
    "0 & 0 & 0 & 0 & 0 & 0 & 0 & 0 & -\\sigma & 1+\\sigma\n",
    "\\end{bmatrix}"
   ]
  },
  {
   "cell_type": "markdown",
   "metadata": {
    "slideshow": {
     "slide_type": "subslide"
    }
   },
   "source": [
    "## Bash"
   ]
  },
  {
   "cell_type": "code",
   "execution_count": 31,
   "metadata": {
    "slideshow": {
     "slide_type": "-"
    }
   },
   "outputs": [
    {
     "name": "stdout",
     "output_type": "stream",
     "text": [
      "a\n",
      "b\n",
      "c\n"
     ]
    }
   ],
   "source": [
    "%%bash\n",
    "for i in a b c;do echo $i;done"
   ]
  },
  {
   "cell_type": "markdown",
   "metadata": {
    "slideshow": {
     "slide_type": "subslide"
    }
   },
   "source": [
    "## Timeit"
   ]
  },
  {
   "cell_type": "code",
   "execution_count": 34,
   "metadata": {
    "slideshow": {
     "slide_type": "-"
    }
   },
   "outputs": [
    {
     "name": "stdout",
     "output_type": "stream",
     "text": [
      "CPU times: user 0 ns, sys: 0 ns, total: 0 ns\n",
      "Wall time: 9.06 µs\n"
     ]
    }
   ],
   "source": [
    "%time x = range(10000)"
   ]
  },
  {
   "cell_type": "code",
   "execution_count": 35,
   "metadata": {
    "slideshow": {
     "slide_type": "-"
    }
   },
   "outputs": [
    {
     "name": "stdout",
     "output_type": "stream",
     "text": [
      "206 µs ± 16.1 µs per loop (mean ± std. dev. of 7 runs, 1000 loops each)\n"
     ]
    }
   ],
   "source": [
    "%%timeit x = range(10000)\n",
    "max(x)"
   ]
  },
  {
   "cell_type": "markdown",
   "metadata": {
    "slideshow": {
     "slide_type": "subslide"
    }
   },
   "source": [
    "## HTML"
   ]
  },
  {
   "cell_type": "code",
   "execution_count": 42,
   "metadata": {
    "slideshow": {
     "slide_type": "-"
    }
   },
   "outputs": [
    {
     "data": {
      "text/html": [
       "<img style=\"display:block; margin-left:auto; margin-right:auto;\"\n",
       "src=\"http://jakevdp.github.com/figures/xkcd_version.png\" width=\"650\">\n",
       "<center><h3>XKCDify in matplotlib<h3></center>"
      ],
      "text/plain": [
       "<IPython.core.display.HTML object>"
      ]
     },
     "metadata": {},
     "output_type": "display_data"
    }
   ],
   "source": [
    "%%HTML\n",
    "<img style=\"display:block; margin-left:auto; margin-right:auto;\"\n",
    "src=\"http://jakevdp.github.com/figures/xkcd_version.png\" width=\"650\">\n",
    "<center><h3>XKCDify in matplotlib<h3></center>"
   ]
  },
  {
   "cell_type": "markdown",
   "metadata": {
    "slideshow": {
     "slide_type": "slide"
    }
   },
   "source": [
    "# WHOA it's some code\n",
    "\n",
    "We're going to plot the old classic: $y = mx + b$.  Good times."
   ]
  },
  {
   "cell_type": "code",
   "execution_count": null,
   "metadata": {
    "slideshow": {
     "slide_type": "subslide"
    }
   },
   "outputs": [],
   "source": [
    "import bokeh.models as bm\n",
    "import bokeh.plotting as bp\n",
    "import bokeh.io as bio\n",
    "import ipywidgets as ipw\n",
    "import numpy as np\n",
    "from IPython.display import display"
   ]
  },
  {
   "cell_type": "code",
   "execution_count": null,
   "metadata": {
    "slideshow": {
     "slide_type": "fragment"
    }
   },
   "outputs": [],
   "source": [
    "# we have to tell bokeh where it is.  Otherwise bokeh will put plots in other browser tabs 😒\n",
    "# By the way, above is the first time I've seen an italic emoji\n",
    "bio.output_notebook()"
   ]
  },
  {
   "cell_type": "code",
   "execution_count": null,
   "metadata": {
    "slideshow": {
     "slide_type": "fragment"
    }
   },
   "outputs": [],
   "source": [
    "# this is a really complicated model:\n",
    "def complicated_function_with_parameters(x, m, b):\n",
    "    \"\"\"This is a very complicated function that we would like to visualize\"\"\"\n",
    "    y = m*x + b\n",
    "    return y"
   ]
  },
  {
   "cell_type": "code",
   "execution_count": null,
   "metadata": {
    "slideshow": {
     "slide_type": "subslide"
    }
   },
   "outputs": [],
   "source": [
    "# bokeh is great for 2D plots, not so great at 3D.\n",
    "# We're going to make a figure and plot a line with NO DATA on it.\n",
    "# We're doing this so we can _replace_ the data later and not have to\n",
    "# create a new line or a new data source.\n",
    "fig = bp.figure(plot_width=400, plot_height=250, x_range=[0, 100], y_range=[0, 100])\n",
    "line = fig.line([], [])\n",
    "data_source = line.data_source\n",
    "\n",
    "# we'll generate the x values for fun\n",
    "x=np.arange(100)"
   ]
  },
  {
   "cell_type": "code",
   "execution_count": null,
   "metadata": {
    "slideshow": {
     "slide_type": "fragment"
    }
   },
   "outputs": [],
   "source": [
    "def callback(m, b):\n",
    "    \"\"\"The most important thing this callback does is update the plot!\"\"\"\n",
    "    y = complicated_function_with_parameters(x, m, b)\n",
    "    data_source.data = {'x': x, 'y': y}\n",
    "    # we have to tell bokeh we made changes and we're ready for the display \n",
    "    # to be updated\n",
    "    bio.push_notebook(handle)\n",
    "\n",
    "interacter = ipw.interactive(\n",
    "    callback,\n",
    "    m=1,\n",
    "    b=2,\n",
    ")\n",
    "# there are other widgets we cold use"
   ]
  },
  {
   "cell_type": "code",
   "execution_count": null,
   "metadata": {
    "scrolled": true,
    "slideshow": {
     "slide_type": "subslide"
    }
   },
   "outputs": [],
   "source": [
    "# gotta grab a handle so we can update the plot later\n",
    "handle = bio.show(fig, notebook_handle=True)\n",
    "display(interacter)"
   ]
  },
  {
   "cell_type": "markdown",
   "metadata": {
    "slideshow": {
     "slide_type": "slide"
    }
   },
   "source": [
    "## JupyterHub\n",
    "\n",
    "<img style=\"float: right;\" src=\"./images/jupyterhubSchematic.png\" width=\"500\"/>\n",
    "\n",
    "- Here's some text\n",
    "\n",
    "- That is beautifully left-aligned\n",
    "\n",
    "- More text\n",
    "\n",
    "- And even more\n",
    "\n",
    "[//]: # (*Source: https://jupyterhub.readthedocs.io/en/latest/_images/jhub-parts.png*)"
   ]
  },
  {
   "cell_type": "markdown",
   "metadata": {
    "slideshow": {
     "slide_type": "slide"
    }
   },
   "source": [
    "# And finally ... \n",
    "<br>\n",
    "<center> <h3>Presentations?!</h3> </center>\n",
    "\n"
   ]
  },
  {
   "cell_type": "markdown",
   "metadata": {
    "slideshow": {
     "slide_type": "subslide"
    }
   },
   "source": [
    "[//]: # (Show screen capture of many cells in the presentation from jupyter notebook view)\n",
    "\n",
    "<img style=\"display:block; margin-left:auto; margin-right:auto;\" src=\"./images/overviewNotebook2.png\" width=\"400\"/>"
   ]
  },
  {
   "cell_type": "markdown",
   "metadata": {
    "slideshow": {
     "slide_type": "subslide"
    }
   },
   "source": [
    "[//]: # (Show RISE)\n",
    "\n",
    "## It's alive! (with [RISE](https://github.com/damianavila/RISE))\n",
    "<br>\n",
    "<img style=\"display:block; margin-left:auto; margin-right:auto;\" src=\"./images/riseVideo.gif\" width=\"700\"/>"
   ]
  },
  {
   "cell_type": "markdown",
   "metadata": {
    "slideshow": {
     "slide_type": "notes"
    }
   },
   "source": [
    "improves the nbconvert library (which exports an .ipynb file to a static html slideshow)\n",
    "\n",
    "notebook is rendered as a Reveal.js-based slideshow"
   ]
  }
 ],
 "metadata": {
  "celltoolbar": "Slideshow",
  "kernelspec": {
   "display_name": "Python 3",
   "language": "python",
   "name": "python3"
  },
  "language_info": {
   "codemirror_mode": {
    "name": "ipython",
    "version": 3
   },
   "file_extension": ".py",
   "mimetype": "text/x-python",
   "name": "python",
   "nbconvert_exporter": "python",
   "pygments_lexer": "ipython3",
   "version": "3.4.3"
  }
 },
 "nbformat": 4,
 "nbformat_minor": 2
}
